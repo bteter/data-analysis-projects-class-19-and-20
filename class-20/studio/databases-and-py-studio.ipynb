{
 "cells": [
  {
   "attachments": {},
   "cell_type": "markdown",
   "metadata": {
    "azdata_cell_guid": "54326aff-51cd-4766-8046-828a92489c6d"
   },
   "source": [
    "# Studio: Working with Databases in Python\n",
    "\n",
    "For today's studio, we will be using the [TV Shows dataset](https://www.kaggle.com/ruchi798/tv-shows-on-netflix-prime-video-hulu-and-disney) from Kaggle. We have already downloaded the CSV for you.\n",
    "\n",
    "You will use the watchlist you created to answer these questions:\n",
    "\n",
    "1. **Which streaming services contain the shows you want to watch next?**\n",
    "2. **Which streaming service is the best value based on the shows you want to watch?**\n",
    "\n",
    "As you complete the different tasks in the studio, you may choose between using Pandas or SQL. \n",
    "\n",
    "**Remember**: we learned in our prep work that one is oftentimes more efficient at certain tasks than the other, so choose wisely!"
   ]
  },
  {
   "attachments": {},
   "cell_type": "markdown",
   "metadata": {
    "azdata_cell_guid": "00bc62ef-6c46-40a2-bdad-a3250a003ce7"
   },
   "source": [
    "## My Watchlist\n",
    "\n",
    "If you would like, please use this space to make note of your watchlist by editing the text cell. You will need 10 shows overall.\n",
    "\n",
    "1. \n",
    "2. \n",
    "3. \n",
    "4. \n",
    "5. \n",
    "6. \n",
    "7. \n",
    "8. \n",
    "9. \n",
    "10. "
   ]
  },
  {
   "cell_type": "markdown",
   "metadata": {
    "azdata_cell_guid": "040bdac5-f7fc-474f-b112-1d807249ad0a"
   },
   "source": [
    "## Database Setup\n",
    "\n",
    "Import the necessary libraries and create a dataframe from the provided CSV. \n",
    "\n",
    "Print the info out for the dataframe. \n",
    "\n",
    "After that, you may drop the column called `Unnamed: 0` and rename any columns with spaces or unusual characters in the names such as `\"Disney+\"`. \n",
    "\n",
    "Print out the info for the dataframe again to ensure your changes were made."
   ]
  },
  {
   "cell_type": "code",
   "execution_count": 16,
   "metadata": {
    "azdata_cell_guid": "965f15d3-27b1-43ed-97e4-8c6fd482476c",
    "tags": []
   },
   "outputs": [],
   "source": [
    "# Code here\n",
    "\n",
    "import sqlite3\n",
    "import pandas as pd\n",
    "\n",
    "\n",
    "df = pd.read_csv(\"tv_shows.csv\")\n",
    "\n",
    "\n"
   ]
  },
  {
   "cell_type": "code",
   "execution_count": 17,
   "metadata": {},
   "outputs": [],
   "source": [
    "df.rename(columns={'Disney+': 'Disney Plus'}, inplace=True)"
   ]
  },
  {
   "cell_type": "code",
   "execution_count": 18,
   "metadata": {},
   "outputs": [
    {
     "name": "stdout",
     "output_type": "stream",
     "text": [
      "      Unnamed: 0    ID                                  Title  Year  Age  \\\n",
      "0              0     1                           Breaking Bad  2008  18+   \n",
      "1              1     2                        Stranger Things  2016  16+   \n",
      "2              2     3                        Attack on Titan  2013  18+   \n",
      "3              3     4                       Better Call Saul  2015  18+   \n",
      "4              4     5                                   Dark  2017  16+   \n",
      "...          ...   ...                                    ...   ...  ...   \n",
      "5363        5363  5713                       Paradise Islands  2017  NaN   \n",
      "5364        5364  5714                         Mexico Untamed  2018  NaN   \n",
      "5365        5365  5715                  Wild Centeral America  2020  NaN   \n",
      "5366        5366  5716                            Wild Russia  2018  NaN   \n",
      "5367        5367  5717  Fearless Adventures with Jack Randall  2018  NaN   \n",
      "\n",
      "        IMDb Rotten Tomatoes  Netflix  Hulu  Prime Video  Disney Plus  Type  \n",
      "0     9.4/10         100/100        1     0            0            0     1  \n",
      "1     8.7/10          96/100        1     0            0            0     1  \n",
      "2     9.0/10          95/100        1     1            0            0     1  \n",
      "3     8.8/10          94/100        1     0            0            0     1  \n",
      "4     8.8/10          93/100        1     0            0            0     1  \n",
      "...      ...             ...      ...   ...          ...          ...   ...  \n",
      "5363     NaN          10/100        0     0            0            1     1  \n",
      "5364     NaN          10/100        0     0            0            1     1  \n",
      "5365     NaN          10/100        0     0            0            1     1  \n",
      "5366     NaN          10/100        0     0            0            1     1  \n",
      "5367     NaN          10/100        0     0            0            1     1  \n",
      "\n",
      "[5368 rows x 12 columns]\n"
     ]
    }
   ],
   "source": [
    "print(df)"
   ]
  },
  {
   "attachments": {},
   "cell_type": "markdown",
   "metadata": {
    "azdata_cell_guid": "93875e01-f1ec-45ab-b8b3-c0fe09c89c41"
   },
   "source": [
    "With your dataframe at the ready, create a new database called `tv.db`. \n",
    "\n",
    "Add a new table to your database called `shows` using the data in the dataframe. "
   ]
  },
  {
   "cell_type": "code",
   "execution_count": 22,
   "metadata": {},
   "outputs": [
    {
     "data": {
      "text/plain": [
       "5368"
      ]
     },
     "execution_count": 22,
     "metadata": {},
     "output_type": "execute_result"
    }
   ],
   "source": [
    "con = sqlite3.connect('tv.db')\n",
    "\n",
    "df.to_sql('shows', con, index=False, if_exists='replace')"
   ]
  },
  {
   "cell_type": "code",
   "execution_count": 23,
   "metadata": {},
   "outputs": [
    {
     "name": "stdout",
     "output_type": "stream",
     "text": [
      "<sqlite3.Connection object at 0x1075b45e0>\n"
     ]
    }
   ],
   "source": [
    "print(con)"
   ]
  },
  {
   "cell_type": "code",
   "execution_count": 29,
   "metadata": {},
   "outputs": [],
   "source": [
    "cursor = con.cursor()"
   ]
  },
  {
   "attachments": {},
   "cell_type": "markdown",
   "metadata": {
    "azdata_cell_guid": "4916f211-149f-467b-b5e4-22ad946b54f2"
   },
   "source": [
    "With your new table and database set up, print out the top 20 records in the `shows` table."
   ]
  },
  {
   "cell_type": "code",
   "execution_count": 29,
   "metadata": {
    "azdata_cell_guid": "c6aa3980-3eef-4d7d-8f04-961508662147",
    "tags": []
   },
   "outputs": [
    {
     "name": "stdout",
     "output_type": "stream",
     "text": [
      "(0, 1, 'Breaking Bad', 2008, '18+', '9.4/10', '100/100', 1, 0, 0, 0, 1)\n",
      "(1, 2, 'Stranger Things', 2016, '16+', '8.7/10', '96/100', 1, 0, 0, 0, 1)\n",
      "(2, 3, 'Attack on Titan', 2013, '18+', '9.0/10', '95/100', 1, 1, 0, 0, 1)\n",
      "(3, 4, 'Better Call Saul', 2015, '18+', '8.8/10', '94/100', 1, 0, 0, 0, 1)\n",
      "(4, 5, 'Dark', 2017, '16+', '8.8/10', '93/100', 1, 0, 0, 0, 1)\n",
      "(5, 6, 'Avatar: The Last Airbender', 2005, '7+', '9.3/10', '93/100', 1, 0, 1, 0, 1)\n",
      "(6, 7, 'Peaky Blinders', 2013, '18+', '8.8/10', '93/100', 1, 0, 0, 0, 1)\n",
      "(7, 8, 'The Walking Dead', 2010, '18+', '8.2/10', '93/100', 1, 0, 0, 0, 1)\n",
      "(8, 9, 'Black Mirror', 2011, '18+', '8.8/10', '92/100', 1, 0, 0, 0, 1)\n",
      "(9, 10, \"The Queen's Gambit\", 2020, '18+', '8.6/10', '92/100', 1, 0, 0, 0, 1)\n",
      "(10, 11, 'Mindhunter', 2017, '18+', '8.6/10', '90/100', 1, 0, 0, 0, 1)\n",
      "(11, 12, 'Community', 2009, '7+', '8.5/10', '90/100', 1, 1, 1, 0, 1)\n",
      "(12, 13, 'Narcos', 2015, '18+', '8.8/10', '90/100', 1, 0, 0, 0, 1)\n",
      "(13, 14, 'Shameless', 2011, '18+', '8.5/10', '90/100', 1, 1, 1, 0, 1)\n",
      "(14, 15, 'Money Heist', 2017, '18+', '8.3/10', '90/100', 1, 0, 0, 0, 1)\n",
      "(15, 16, \"Marvel's Daredevil\", 2015, '18+', '8.6/10', '90/100', 1, 0, 0, 0, 1)\n",
      "(16, 17, 'Lucifer', 2016, '16+', '8.1/10', '90/100', 1, 0, 0, 0, 1)\n",
      "(17, 18, 'Supernatural', 2005, '16+', '8.4/10', '89/100', 1, 0, 0, 0, 1)\n",
      "(18, 19, 'The Witcher', 2019, '18+', '8.2/10', '89/100', 1, 0, 0, 0, 1)\n",
      "(19, 20, 'Ozark', 2017, '18+', '8.4/10', '89/100', 1, 0, 0, 0, 1)\n"
     ]
    }
   ],
   "source": [
    "with con:\n",
    "    data = con.execute(\"SELECT * FROM shows LIMIT 20\")\n",
    "    for row in data:\n",
    "        print(row)"
   ]
  },
  {
   "attachments": {},
   "cell_type": "markdown",
   "metadata": {
    "azdata_cell_guid": "f158ccd2-c87a-4d2c-a947-0eadd0484a3e"
   },
   "source": [
    "Now, create a new table called `watchlist` that has three fields:\n",
    "1. id -> data type of `INTEGER NOT NULL PRIMARY KEY AUTOINCREMENT`\n",
    "2. title -> data type of `TEXT`\n",
    "3. importance_rank -> data type of `INTEGER`\n",
    "\n",
    "For the `importance_rank` field, rank each of your watchlist shows based on how much you want to see them, `10` being the most important and `1` being the least important.\n",
    "\n",
    "Then, insert each of the items from your watchlist into the new `watchlist` table, using the `executemany` method from our exercises.\n",
    "\n",
    "Finally, select all the records from the `watchlist` table and print them out to the console."
   ]
  },
  {
   "cell_type": "code",
   "execution_count": 34,
   "metadata": {
    "azdata_cell_guid": "f95defad-521b-4112-8435-08daaac80b80"
   },
   "outputs": [],
   "source": [
    "# Code here\n",
    "with con:\n",
    "    con.executescript(\"\"\"\n",
    "        BEGIN;\n",
    "        CREATE TABLE watchlist (\n",
    "            id INTEGER NOT NULL PRIMARY KEY AUTOINCREMENT, \n",
    "            title TEXT, \n",
    "            importance_rank INTEGER\n",
    "        );\n",
    "            COMMIT;\n",
    "    \"\"\")"
   ]
  },
  {
   "cell_type": "code",
   "execution_count": 35,
   "metadata": {},
   "outputs": [],
   "source": [
    "with sqlite3.connect('your_database.db') as con:\n",
    "    cur = con.cursor()\n",
    "    cur.executemany(\n",
    "        \"INSERT INTO watchlist (title, importance_rank) VALUES (?, ?)\",\n",
    "        [\n",
    "            ('Twin Peaks', 1),\n",
    "            ('The Simpsons', 2),\n",
    "            ('The Sopranos', 3),\n",
    "            ('Arrested Development', 4),\n",
    "            ('Trailer Park Boys', 5),\n",
    "            ('I Think You Should Leave with Tim Robinson', 6),\n",
    "            ('Mr. Show', 7),\n",
    "            ('The Muppet Show', 8),\n",
    "            ('Mindhunter', 9),\n",
    "            ('Kids in the Hall', 10)with con:\n",
    "    data = con.execute(\"SELECT * FROM shows LIMIT 20\")\n",
    "    for row in data:\n",
    "        print(row)\n",
    "        ]\n",
    "    )\n",
    "    con.commit()\n"
   ]
  },
  {
   "cell_type": "code",
   "execution_count": 37,
   "metadata": {},
   "outputs": [
    {
     "name": "stdout",
     "output_type": "stream",
     "text": [
      "(1, 'Twin Peaks', 1)\n",
      "(2, 'The Simpsons', 2)\n",
      "(3, 'The Sopranos', 3)\n",
      "(4, 'Arrested Development', 4)\n",
      "(5, 'Trailer Park Boys', 5)\n",
      "(6, 'I Think You Should Leave with Tim Robinson', 6)\n",
      "(7, 'Mr. Show', 7)\n",
      "(8, 'The Muppet Show', 8)\n",
      "(9, 'Mindhunter', 9)\n",
      "(10, 'Kids in the Hall', 10)\n"
     ]
    }
   ],
   "source": [
    "with con:\n",
    "    data = con.execute(\"SELECT * FROM watchlist\")\n",
    "    for row in data:\n",
    "        print(row)"
   ]
  },
  {
   "attachments": {},
   "cell_type": "markdown",
   "metadata": {
    "azdata_cell_guid": "4716090d-63e3-4283-8245-934c4a28c750"
   },
   "source": [
    "## Working with the Data\n",
    "\n",
    "Using Pandas or SQL, find the answer to these 2 questions:\n",
    "1. How many of the total shows (full csv list) are on each streaming service?\n",
    "2. What percentage of these total shows is available on each streaming service?\n",
    "\n",
    "**Hint**:\n",
    "\n",
    "Use the pandas `query` method to filter the data, and then the Python `len` method to find it's length. [Relevant Link](https://www.geeksforgeeks.org/ways-to-filter-pandas-dataframe-by-column-values/)"
   ]
  },
  {
   "cell_type": "code",
   "execution_count": null,
   "metadata": {
    "azdata_cell_guid": "8e4f3757-474f-4e20-b861-db973437b541"
   },
   "outputs": [],
   "source": [
    "# Code here"
   ]
  },
  {
   "attachments": {},
   "cell_type": "markdown",
   "metadata": {
    "azdata_cell_guid": "167cbd0d-ad9f-4f27-8066-e45dfdfaf421"
   },
   "source": [
    "\n",
    "Now join your `watchlist` data to the `shows` data using pandas or SQL. Verify that you joined the data correctly.\n",
    "\n",
    "Using this related dataset, come up with analytic code that answers these questions:\n",
    "1. The number of watchlist shows each streaming service has\n",
    "2. The percentage of your overall watchlist each streaming service has\n"
   ]
  },
  {
   "cell_type": "code",
   "execution_count": null,
   "metadata": {
    "azdata_cell_guid": "b871523e-a476-4f3a-a6ac-2e251f140e84"
   },
   "outputs": [],
   "source": [
    "# Code here"
   ]
  },
  {
   "cell_type": "markdown",
   "metadata": {
    "azdata_cell_guid": "909689e4-1aae-41e3-b1f8-158ebe5ec3ca"
   },
   "source": [
    "## Results\n",
    "\n",
    "Now that you have done your analysis, make note of the answers to the following questions by editing the text cell:\n",
    "\n",
    "1. Was every show on your watchlist in the Kaggle dataset? Do you have any ideas as to why a show might not have been present?\n",
    "\n",
    "- *your_answer*\n",
    "\n",
    "2. Did you include a show or shows in your watchlist that is exclusive to one of the platforms? How might that have impacted your analysis?\n",
    "\n",
    "- *your_answer*\n",
    "\n",
    "3. Which streaming service(s) offered the most shows on your watchlist? Which streaming service(s) offered the least?\n",
    "\n",
    "- *your_answer*\n",
    "\n",
    "4. Based on the shows you want to watch and the results of your analysis, is there a streaming service you think would be a good fit for you?\n",
    "\n",
    "- *your_answer*"
   ]
  },
  {
   "cell_type": "markdown",
   "metadata": {},
   "source": [
    "# Bonus Mission\n",
    "\n",
    "We didn't end up using that `importance_rank` field, did we?\n",
    "\n",
    "Well, that was intentional! \n",
    "\n",
    "Your bonus mission is to come up with analysis that uses that field to determine, based on watchlist show importance_rank and number of watchlist shows available on a service, which platform you should subscribe to."
   ]
  },
  {
   "cell_type": "code",
   "execution_count": null,
   "metadata": {},
   "outputs": [],
   "source": [
    "# Code Here"
   ]
  }
 ],
 "metadata": {
  "kernelspec": {
   "display_name": "Python 3 (ipykernel)",
   "language": "python",
   "name": "python3"
  },
  "language_info": {
   "codemirror_mode": {
    "name": "ipython",
    "version": 3
   },
   "file_extension": ".py",
   "mimetype": "text/x-python",
   "name": "python",
   "nbconvert_exporter": "python",
   "pygments_lexer": "ipython3",
   "version": "3.12.5"
  }
 },
 "nbformat": 4,
 "nbformat_minor": 4
}
